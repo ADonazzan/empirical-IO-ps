{
 "cells": [
  {
   "cell_type": "code",
   "execution_count": 1,
   "id": "47e80ec3",
   "metadata": {
    "ExecuteTime": {
     "end_time": "2025-09-25T16:16:23.016132Z",
     "start_time": "2025-09-25T16:16:21.228601Z"
    }
   },
   "outputs": [],
   "source": [
    "# from bs4 import BeautifulSoup\n",
    "# import requests\n",
    "# import re\n",
    "from itunes_app_scraper.scraper import AppStoreScraper\n",
    "\n",
    "import numpy as np\n",
    "\n",
    "import requests\n",
    "import html\n",
    "from io import StringIO\n",
    "import pandas as pd\n",
    "import matplotlib.pyplot as plt\n",
    "\n",
    "plt.style.use('seaborn-v0_8-whitegrid')"
   ]
  },
  {
   "cell_type": "markdown",
   "id": "fcb5cdad189b3f93",
   "metadata": {},
   "source": [
    "# Step 1"
   ]
  },
  {
   "cell_type": "code",
   "execution_count": 2,
   "id": "54363c98",
   "metadata": {
    "ExecuteTime": {
     "end_time": "2025-09-25T16:16:23.393842Z",
     "start_time": "2025-09-25T16:16:23.017069Z"
    }
   },
   "outputs": [
    {
     "data": {
      "text/html": [
       "<div>\n",
       "<style scoped>\n",
       "    .dataframe tbody tr th:only-of-type {\n",
       "        vertical-align: middle;\n",
       "    }\n",
       "\n",
       "    .dataframe tbody tr th {\n",
       "        vertical-align: top;\n",
       "    }\n",
       "\n",
       "    .dataframe thead th {\n",
       "        text-align: right;\n",
       "    }\n",
       "</style>\n",
       "<table border=\"1\" class=\"dataframe\">\n",
       "  <thead>\n",
       "    <tr style=\"text-align: right;\">\n",
       "      <th></th>\n",
       "      <th>app_id</th>\n",
       "      <th>rank</th>\n",
       "      <th>name</th>\n",
       "    </tr>\n",
       "  </thead>\n",
       "  <tbody>\n",
       "    <tr>\n",
       "      <th>0</th>\n",
       "      <td>479516143</td>\n",
       "      <td>1</td>\n",
       "      <td>Minecraft: Play with Friends</td>\n",
       "    </tr>\n",
       "    <tr>\n",
       "      <th>1</th>\n",
       "      <td>1118115766</td>\n",
       "      <td>2</td>\n",
       "      <td>Bloons TD 6</td>\n",
       "    </tr>\n",
       "    <tr>\n",
       "      <th>2</th>\n",
       "      <td>342548956</td>\n",
       "      <td>3</td>\n",
       "      <td>TurboScan™ Pro: PDF scanner</td>\n",
       "    </tr>\n",
       "    <tr>\n",
       "      <th>3</th>\n",
       "      <td>623592465</td>\n",
       "      <td>4</td>\n",
       "      <td>Heads Up!</td>\n",
       "    </tr>\n",
       "    <tr>\n",
       "      <th>4</th>\n",
       "      <td>625334537</td>\n",
       "      <td>5</td>\n",
       "      <td>Geometry Dash</td>\n",
       "    </tr>\n",
       "  </tbody>\n",
       "</table>\n",
       "</div>"
      ],
      "text/plain": [
       "       app_id  rank                          name\n",
       "0   479516143     1  Minecraft: Play with Friends\n",
       "1  1118115766     2                   Bloons TD 6\n",
       "2   342548956     3   TurboScan™ Pro: PDF scanner\n",
       "3   623592465     4                     Heads Up!\n",
       "4   625334537     5                 Geometry Dash"
      ]
     },
     "execution_count": 2,
     "metadata": {},
     "output_type": "execute_result"
    }
   ],
   "source": [
    "def fetch_app_list(url: str) -> str:\n",
    "    response = requests.get(url)\n",
    "    response.raise_for_status()\n",
    "    return response.text\n",
    "\n",
    "\n",
    "def build_dataframe(html_content: str) -> pd.DataFrame:\n",
    "    clean_html = html.unescape(html_content)\n",
    "    df = pd.read_html(StringIO(clean_html))[0]\n",
    "    return df\n",
    "\n",
    "list_url = \"https://fabiosacerdote.github.io/ScrapingData/top_paid_apps_to_share.html\"\n",
    "html_content = fetch_app_list(list_url)\n",
    "app_df = build_dataframe(html_content)\n",
    "app_df.head()"
   ]
  },
  {
   "cell_type": "markdown",
   "id": "5ad6401a",
   "metadata": {},
   "source": [
    "# Step 2 "
   ]
  },
  {
   "cell_type": "code",
   "execution_count": 3,
   "id": "3b6dd0ce",
   "metadata": {
    "ExecuteTime": {
     "end_time": "2025-09-25T16:16:23.397149Z",
     "start_time": "2025-09-25T16:16:23.394667Z"
    }
   },
   "outputs": [],
   "source": [
    "scraper = AppStoreScraper()\n",
    "def get_selected_app_details(app_ids, country=\"us\", lang=\"en\"):\n",
    "    \"\"\"Fetch only the wanted fields for a list of app IDs.\"\"\"\n",
    "    details = scraper.get_multiple_app_details(app_ids, country=country, lang=lang, sleep=0)\n",
    "\n",
    "    rows = []\n",
    "    for d in details:\n",
    "        if not d:\n",
    "            continue\n",
    "        rows.append({\n",
    "            \"id\": d.get(\"trackId\"),\n",
    "            \"price\": d.get(\"price\"),\n",
    "            \"currency\": d.get(\"currency\"),\n",
    "            \"genre\": d.get(\"primaryGenreName\"),\n",
    "            \"avg_score\": d.get(\"averageUserRating\") or d.get(\"averageUserRatingForCurrentVersion\"),\n",
    "            \"reviews_count\": d.get(\"userRatingCount\") or d.get(\"userRatingCountForCurrentVersion\"),\n",
    "            \"developer\": d.get(\"artistName\")\n",
    "        })\n",
    "    return pd.DataFrame(rows)"
   ]
  },
  {
   "cell_type": "code",
   "execution_count": 4,
   "id": "69e0c78ef573560b",
   "metadata": {
    "ExecuteTime": {
     "end_time": "2025-09-25T16:16:45.409602Z",
     "start_time": "2025-09-25T16:16:23.397808Z"
    }
   },
   "outputs": [
    {
     "data": {
      "text/html": [
       "<div>\n",
       "<style scoped>\n",
       "    .dataframe tbody tr th:only-of-type {\n",
       "        vertical-align: middle;\n",
       "    }\n",
       "\n",
       "    .dataframe tbody tr th {\n",
       "        vertical-align: top;\n",
       "    }\n",
       "\n",
       "    .dataframe thead th {\n",
       "        text-align: right;\n",
       "    }\n",
       "</style>\n",
       "<table border=\"1\" class=\"dataframe\">\n",
       "  <thead>\n",
       "    <tr style=\"text-align: right;\">\n",
       "      <th></th>\n",
       "      <th>app_id</th>\n",
       "      <th>rank</th>\n",
       "      <th>name</th>\n",
       "      <th>id</th>\n",
       "      <th>price</th>\n",
       "      <th>currency</th>\n",
       "      <th>genre</th>\n",
       "      <th>avg_score</th>\n",
       "      <th>reviews_count</th>\n",
       "      <th>developer</th>\n",
       "    </tr>\n",
       "  </thead>\n",
       "  <tbody>\n",
       "    <tr>\n",
       "      <th>0</th>\n",
       "      <td>479516143</td>\n",
       "      <td>1</td>\n",
       "      <td>Minecraft: Play with Friends</td>\n",
       "      <td>4.795161e+08</td>\n",
       "      <td>6.99</td>\n",
       "      <td>USD</td>\n",
       "      <td>Games</td>\n",
       "      <td>4.50126</td>\n",
       "      <td>774041.0</td>\n",
       "      <td>Mojang</td>\n",
       "    </tr>\n",
       "    <tr>\n",
       "      <th>1</th>\n",
       "      <td>1118115766</td>\n",
       "      <td>2</td>\n",
       "      <td>Bloons TD 6</td>\n",
       "      <td>1.118116e+09</td>\n",
       "      <td>6.99</td>\n",
       "      <td>USD</td>\n",
       "      <td>Games</td>\n",
       "      <td>4.85886</td>\n",
       "      <td>325421.0</td>\n",
       "      <td>Ninja Kiwi</td>\n",
       "    </tr>\n",
       "    <tr>\n",
       "      <th>2</th>\n",
       "      <td>342548956</td>\n",
       "      <td>3</td>\n",
       "      <td>TurboScan™ Pro: PDF scanner</td>\n",
       "      <td>3.425490e+08</td>\n",
       "      <td>9.99</td>\n",
       "      <td>USD</td>\n",
       "      <td>Business</td>\n",
       "      <td>4.92558</td>\n",
       "      <td>289733.0</td>\n",
       "      <td>Piksoft Inc.</td>\n",
       "    </tr>\n",
       "    <tr>\n",
       "      <th>3</th>\n",
       "      <td>623592465</td>\n",
       "      <td>4</td>\n",
       "      <td>Heads Up!</td>\n",
       "      <td>6.235925e+08</td>\n",
       "      <td>1.99</td>\n",
       "      <td>USD</td>\n",
       "      <td>Games</td>\n",
       "      <td>4.79223</td>\n",
       "      <td>261188.0</td>\n",
       "      <td>Warner Bros.</td>\n",
       "    </tr>\n",
       "    <tr>\n",
       "      <th>4</th>\n",
       "      <td>625334537</td>\n",
       "      <td>5</td>\n",
       "      <td>Geometry Dash</td>\n",
       "      <td>6.253345e+08</td>\n",
       "      <td>2.99</td>\n",
       "      <td>USD</td>\n",
       "      <td>Games</td>\n",
       "      <td>4.52792</td>\n",
       "      <td>223552.0</td>\n",
       "      <td>RobTop Games AB</td>\n",
       "    </tr>\n",
       "  </tbody>\n",
       "</table>\n",
       "</div>"
      ],
      "text/plain": [
       "       app_id  rank                          name            id  price  \\\n",
       "0   479516143     1  Minecraft: Play with Friends  4.795161e+08   6.99   \n",
       "1  1118115766     2                   Bloons TD 6  1.118116e+09   6.99   \n",
       "2   342548956     3   TurboScan™ Pro: PDF scanner  3.425490e+08   9.99   \n",
       "3   623592465     4                     Heads Up!  6.235925e+08   1.99   \n",
       "4   625334537     5                 Geometry Dash  6.253345e+08   2.99   \n",
       "\n",
       "  currency     genre  avg_score  reviews_count        developer  \n",
       "0      USD     Games    4.50126       774041.0           Mojang  \n",
       "1      USD     Games    4.85886       325421.0       Ninja Kiwi  \n",
       "2      USD  Business    4.92558       289733.0     Piksoft Inc.  \n",
       "3      USD     Games    4.79223       261188.0     Warner Bros.  \n",
       "4      USD     Games    4.52792       223552.0  RobTop Games AB  "
      ]
     },
     "execution_count": 4,
     "metadata": {},
     "output_type": "execute_result"
    }
   ],
   "source": [
    "ids = app_df[\"app_id\"].dropna().astype(int).tolist()\n",
    "details_df = get_selected_app_details(ids)\n",
    "full_df = app_df.merge(details_df, left_on=\"app_id\", right_on=\"id\", how=\"left\")\n",
    "full_df.head()"
   ]
  },
  {
   "cell_type": "markdown",
   "id": "263b6486",
   "metadata": {},
   "source": [
    "# Step 3"
   ]
  },
  {
   "cell_type": "code",
   "execution_count": 5,
   "id": "ce6e2837",
   "metadata": {
    "ExecuteTime": {
     "end_time": "2025-09-25T16:16:45.421147Z",
     "start_time": "2025-09-25T16:16:45.413730Z"
    }
   },
   "outputs": [],
   "source": [
    "#assumption of 20 downloads per review\n",
    "full_df[\"estimated_downloads\"] = full_df[\"reviews_count\"] * 20\n",
    "\n",
    "#assumption 2 implementing garg telang paper\n",
    "a = 0.944\n",
    "b = 52.958\n",
    "full_df[\"downloads_garg_telang\"] = b*(full_df[\"rank\"]**(-a))"
   ]
  },
  {
   "cell_type": "code",
   "execution_count": 24,
   "id": "4cee2f21",
   "metadata": {},
   "outputs": [
    {
     "name": "stdout",
     "output_type": "stream",
     "text": [
      "a = -1.018\n",
      "b = 25350342.941\n",
      "R² = 0.983\n"
     ]
    }
   ],
   "source": [
    "#fit of parameters on the new data\n",
    "import numpy as np\n",
    "from sklearn.linear_model import LinearRegression\n",
    "from sklearn.metrics import r2_score\n",
    "\n",
    "# Keep 300 IDs\n",
    "np.random.seed(42)  \n",
    "sample_df = full_df.dropna(subset=['estimated_downloads', 'reviews_count']).sample(n=300)\n",
    "\n",
    "\n",
    "\n",
    "# log(downloads) = log(b) + a * log(rank)\n",
    "X = np.log(sample_df['rank']).values.reshape(-1, 1)\n",
    "y = np.log(sample_df['estimated_downloads']).values\n",
    "\n",
    "# Fit of the model\n",
    "model = LinearRegression()\n",
    "model.fit(X, y)\n",
    "\n",
    "# parameters\n",
    "a_fitted = model.coef_[0]\n",
    "log_b_fitted = model.intercept_\n",
    "b_fitted = np.exp(log_b_fitted)\n",
    "\n",
    "# Evaluate the model\n",
    "y_pred = model.predict(X)\n",
    "r2 = r2_score(y, y_pred)\n",
    "\n",
    "print(f\"a = {a_fitted:.3f}\")\n",
    "print(f\"b = {b_fitted:.3f}\")\n",
    "print(f\"R² = {r2:.3f}\")\n",
    "\n",
    "# Apply the fitted model to the full dataset\n",
    "full_df[\"downloads_garg_telang_fitted\"] = b_fitted * (full_df[\"rank\"] ** (a_fitted))"
   ]
  },
  {
   "cell_type": "code",
   "execution_count": null,
   "id": "9c74bcc5",
   "metadata": {},
   "outputs": [],
   "source": [
    "# Comparazione tra i diversi metodi di stima e controllo validità\n",
    "print(\"=== COMPARAZIONE DEI MODELLI DI STIMA ===\")\n",
    "\n",
    "# Controllo modello originale Garg-Telang\n",
    "invalid_original = full_df[full_df['downloads_garg_telang'] < full_df['reviews_count']]\n",
    "print(f\"\\nModello originale Garg-Telang (a=0.944, b=52.958):\")\n",
    "print(f\"App con downloads < reviews: {len(invalid_original)} ({len(invalid_original)/len(full_df)*100:.1f}%)\")\n",
    "\n",
    "# Controllo modello Garg-Telang fitted\n",
    "invalid_fitted = full_df[full_df['downloads_garg_telang_fitted'] < full_df['reviews_count']]\n",
    "print(f\"\\nModello Garg-Telang fitted (a={a_fitted:.3f}, b={b_fitted:.0f}):\")\n",
    "print(f\"App con downloads < reviews: {len(invalid_fitted)} ({len(invalid_fitted)/len(full_df)*100:.1f}%)\")\n",
    "\n",
    "# Controllo metodo 20x reviews (sempre valido per costruzione)\n",
    "print(f\"\\nMetodo 20x reviews:\")\n",
    "print(f\"App con downloads < reviews: 0 (0.0%) - sempre >= per costruzione\")\n",
    "\n",
    "# Confronto delle prime 10 app\n",
    "print(f\"\\n=== CONFRONTO STIME PER LE PRIME 10 APP ===\")\n",
    "comparison_cols = ['name', 'rank', 'reviews_count', 'estimated_downloads', \n",
    "                   'downloads_garg_telang', 'downloads_garg_telang_fitted']\n",
    "comparison_df = full_df.head(10)[comparison_cols].copy()\n",
    "comparison_df.columns = ['App', 'Rank', 'Reviews', '20x Method', 'GT Original', 'GT Fitted']\n",
    "\n",
    "# Formatta i numeri per una migliore visualizzazione\n",
    "for col in ['Reviews', '20x Method', 'GT Original', 'GT Fitted']:\n",
    "    comparison_df[col] = comparison_df[col].astype(float).round(0).astype(int)\n",
    "\n",
    "print(comparison_df.to_string(index=False))\n",
    "\n",
    "# Analisi delle app ancora problematiche con il modello fitted\n",
    "if len(invalid_fitted) > 0:\n",
    "    print(f\"\\n=== APP ANCORA PROBLEMATICHE CON MODELLO FITTED ===\")\n",
    "    prob_cols = ['name', 'rank', 'reviews_count', 'downloads_garg_telang_fitted']\n",
    "    problematic_df = invalid_fitted[prob_cols].head(5).copy()\n",
    "    problematic_df.columns = ['App', 'Rank', 'Reviews', 'GT Fitted']\n",
    "    print(problematic_df.to_string(index=False, float_format='%.0f'))\n",
    "    \n",
    "    print(f\"\\nCaratteristiche delle app problematiche:\")\n",
    "    print(f\"Rank medio: {invalid_fitted['rank'].mean():.1f}\")\n",
    "    print(f\"Reviews medie: {invalid_fitted['reviews_count'].mean():.0f}\")\n",
    "else:\n",
    "    print(f\"\\n✅ Il modello fitted risolve completamente il problema!\")\n",
    "    print(f\"Tutte le stime sono >= al numero di recensioni.\")"
   ]
  },
  {
   "cell_type": "markdown",
   "id": "72f7aaa7",
   "metadata": {},
   "source": [
    "Check the relation between downloads and rank, as the rank should be a good proxy for the number of downloads"
   ]
  },
  {
   "cell_type": "code",
   "execution_count": 23,
   "id": "8fa7b433",
   "metadata": {
    "ExecuteTime": {
     "end_time": "2025-09-25T16:48:43.154989Z",
     "start_time": "2025-09-25T16:48:42.958274Z"
    }
   },
   "outputs": [
    {
     "data": {
      "image/png": "[encoded data removed]",
      "text/plain": [
       "<Figure size 500x300 with 1 Axes>"
      ]
     },
     "metadata": {},
     "output_type": "display_data"
    },
    {
     "data": {
      "image/png": "[encoded data removed]",
      "text/plain": [
       "<Figure size 500x300 with 1 Axes>"
      ]
     },
     "metadata": {},
     "output_type": "display_data"
    }
   ],
   "source": [
    "fig = plt.figure(figsize=(5, 3))\n",
    "plt.grid(alpha = 0.5, ls = (5, (10, 3)))\n",
    "\n",
    "plt.scatter(full_df['rank'], full_df['estimated_downloads'], alpha=0.6, s=8)\n",
    "\n",
    "plt.xlabel('App Rank (1 = best)')\n",
    "plt.ylabel('Estimated Downloads')\n",
    "\n",
    "\n",
    "plt.tight_layout()\n",
    "plt.savefig('../output/plots/rank_vs_downloads.png', dpi=300, bbox_inches='tight')\n",
    "plt.show()\n",
    "\n",
    "plt.figure(figsize=(5, 3))\n",
    "plt.grid(alpha = 0.5, ls = (5, (10, 3)))\n",
    "plt.scatter(full_df['rank'], full_df['downloads_garg_telang_fitted'], alpha=0.6, s=8)\n",
    "plt.xlabel('App Rank (1 = best)')\n",
    "plt.ylabel('Estimated Downloads (Garg Telang)')\n",
    "plt.tight_layout()\n",
    "plt.savefig('../output/plots/rank_vs_downloads_garg_telang.png', dpi=300, bbox_inches='tight')\n",
    "plt.show()\n"
   ]
  },
  {
   "cell_type": "markdown",
   "id": "d4c39c82",
   "metadata": {},
   "source": [
    "We now make the same plot but excluding the first 10 apps for a better view"
   ]
  },
  {
   "cell_type": "code",
   "execution_count": 7,
   "id": "ce863afa",
   "metadata": {},
   "outputs": [
    {
     "data": {
      "image/png": "[encoded data removed]",
      "text/plain": [
       "<Figure size 500x300 with 1 Axes>"
      ]
     },
     "metadata": {},
     "output_type": "display_data"
    },
    {
     "data": {
      "image/png": "[encoded data removed]",
      "text/plain": [
       "<Figure size 500x300 with 1 Axes>"
      ]
     },
     "metadata": {},
     "output_type": "display_data"
    }
   ],
   "source": [
    "filtered_df = full_df[full_df['rank'] > 10]\n",
    "\n",
    "fig = plt.figure(figsize=(5, 3))\n",
    "plt.grid(alpha=0.5, ls=(5, (10, 3)))\n",
    "plt.scatter(filtered_df['rank'], filtered_df['estimated_downloads'], alpha=0.6, s=8)\n",
    "plt.xlabel('App Rank (1 = best)')\n",
    "plt.ylabel('Estimated Downloads')\n",
    "plt.tight_layout()\n",
    "plt.savefig('../output/plots/rank_vs_downloads_excl_top10.png', dpi=300, bbox_inches='tight')\n",
    "plt.show()\n",
    "\n",
    "plt.figure(figsize=(5, 3))\n",
    "plt.grid(alpha=0.5, ls=(5, (10, 3)))\n",
    "plt.scatter(filtered_df['rank'], filtered_df['downloads_garg_telang'], alpha=0.6, s=8)\n",
    "plt.xlabel('App Rank (1 = best)')\n",
    "plt.ylabel('Estimated Downloads (Garg Telang)')\n",
    "plt.tight_layout()\n",
    "plt.savefig('../output/plots/rank_vs_downloads_garg_telang_excl_top10.png', dpi=300, bbox_inches='tight')\n",
    "plt.show()\n"
   ]
  },
  {
   "cell_type": "markdown",
   "id": "23845139",
   "metadata": {},
   "source": [
    "Now map categories into macrocategories to have less than 10 cathegories"
   ]
  },
  {
   "cell_type": "code",
   "execution_count": 8,
   "id": "7f180243",
   "metadata": {
    "ExecuteTime": {
     "end_time": "2025-09-25T16:16:46.057194Z",
     "start_time": "2025-09-25T16:16:46.052515Z"
    }
   },
   "outputs": [
    {
     "data": {
      "text/plain": [
       "genre\n",
       "Games                214\n",
       "Photo & Video         38\n",
       "Health & Fitness      28\n",
       "Utilities             20\n",
       "Productivity          19\n",
       "Weather               18\n",
       "Education             16\n",
       "Music                 15\n",
       "Lifestyle             15\n",
       "Reference             14\n",
       "Travel                13\n",
       "Entertainment         13\n",
       "Navigation            13\n",
       "Business              11\n",
       "Medical               10\n",
       "Finance                9\n",
       "Social Networking      8\n",
       "Food & Drink           6\n",
       "Shopping               5\n",
       "Sports                 4\n",
       "News                   2\n",
       "Name: count, dtype: int64"
      ]
     },
     "execution_count": 8,
     "metadata": {},
     "output_type": "execute_result"
    }
   ],
   "source": [
    "category_counts = full_df[\"genre\"].value_counts()\n",
    "category_counts"
   ]
  },
  {
   "cell_type": "code",
   "execution_count": 9,
   "id": "ad2a9970",
   "metadata": {
    "ExecuteTime": {
     "end_time": "2025-09-25T16:16:46.072149Z",
     "start_time": "2025-09-25T16:16:46.058554Z"
    }
   },
   "outputs": [
    {
     "name": "stdout",
     "output_type": "stream",
     "text": [
      "final_category\n",
      "Games            214\n",
      "Entertainment     66\n",
      "Productivity      50\n",
      "Lifestyle         43\n",
      "Outside Good      34\n",
      "Education         30\n",
      "Travel            26\n",
      "Weather           18\n",
      "Health            10\n",
      "Name: count, dtype: int64\n"
     ]
    },
    {
     "data": {
      "text/html": [
       "<div>\n",
       "<style scoped>\n",
       "    .dataframe tbody tr th:only-of-type {\n",
       "        vertical-align: middle;\n",
       "    }\n",
       "\n",
       "    .dataframe tbody tr th {\n",
       "        vertical-align: top;\n",
       "    }\n",
       "\n",
       "    .dataframe thead th {\n",
       "        text-align: right;\n",
       "    }\n",
       "</style>\n",
       "<table border=\"1\" class=\"dataframe\">\n",
       "  <thead>\n",
       "    <tr style=\"text-align: right;\">\n",
       "      <th></th>\n",
       "      <th>app_id</th>\n",
       "      <th>rank</th>\n",
       "      <th>name</th>\n",
       "      <th>id</th>\n",
       "      <th>price</th>\n",
       "      <th>currency</th>\n",
       "      <th>genre</th>\n",
       "      <th>avg_score</th>\n",
       "      <th>reviews_count</th>\n",
       "      <th>developer</th>\n",
       "      <th>estimated_downloads</th>\n",
       "      <th>downloads_garg_telang</th>\n",
       "      <th>macro_category</th>\n",
       "      <th>final_category</th>\n",
       "    </tr>\n",
       "  </thead>\n",
       "  <tbody>\n",
       "    <tr>\n",
       "      <th>0</th>\n",
       "      <td>479516143</td>\n",
       "      <td>1</td>\n",
       "      <td>Minecraft: Play with Friends</td>\n",
       "      <td>4.795161e+08</td>\n",
       "      <td>6.99</td>\n",
       "      <td>USD</td>\n",
       "      <td>Games</td>\n",
       "      <td>4.50126</td>\n",
       "      <td>774041.0</td>\n",
       "      <td>Mojang</td>\n",
       "      <td>15480820.0</td>\n",
       "      <td>52.958000</td>\n",
       "      <td>Games</td>\n",
       "      <td>Games</td>\n",
       "    </tr>\n",
       "    <tr>\n",
       "      <th>1</th>\n",
       "      <td>1118115766</td>\n",
       "      <td>2</td>\n",
       "      <td>Bloons TD 6</td>\n",
       "      <td>1.118116e+09</td>\n",
       "      <td>6.99</td>\n",
       "      <td>USD</td>\n",
       "      <td>Games</td>\n",
       "      <td>4.85886</td>\n",
       "      <td>325421.0</td>\n",
       "      <td>Ninja Kiwi</td>\n",
       "      <td>6508420.0</td>\n",
       "      <td>27.527024</td>\n",
       "      <td>Games</td>\n",
       "      <td>Games</td>\n",
       "    </tr>\n",
       "    <tr>\n",
       "      <th>2</th>\n",
       "      <td>342548956</td>\n",
       "      <td>3</td>\n",
       "      <td>TurboScan™ Pro: PDF scanner</td>\n",
       "      <td>3.425490e+08</td>\n",
       "      <td>9.99</td>\n",
       "      <td>USD</td>\n",
       "      <td>Business</td>\n",
       "      <td>4.92558</td>\n",
       "      <td>289733.0</td>\n",
       "      <td>Piksoft Inc.</td>\n",
       "      <td>5794660.0</td>\n",
       "      <td>18.772802</td>\n",
       "      <td>Productivity</td>\n",
       "      <td>Productivity</td>\n",
       "    </tr>\n",
       "    <tr>\n",
       "      <th>3</th>\n",
       "      <td>623592465</td>\n",
       "      <td>4</td>\n",
       "      <td>Heads Up!</td>\n",
       "      <td>6.235925e+08</td>\n",
       "      <td>1.99</td>\n",
       "      <td>USD</td>\n",
       "      <td>Games</td>\n",
       "      <td>4.79223</td>\n",
       "      <td>261188.0</td>\n",
       "      <td>Warner Bros.</td>\n",
       "      <td>5223760.0</td>\n",
       "      <td>14.308264</td>\n",
       "      <td>Games</td>\n",
       "      <td>Games</td>\n",
       "    </tr>\n",
       "    <tr>\n",
       "      <th>4</th>\n",
       "      <td>625334537</td>\n",
       "      <td>5</td>\n",
       "      <td>Geometry Dash</td>\n",
       "      <td>6.253345e+08</td>\n",
       "      <td>2.99</td>\n",
       "      <td>USD</td>\n",
       "      <td>Games</td>\n",
       "      <td>4.52792</td>\n",
       "      <td>223552.0</td>\n",
       "      <td>RobTop Games AB</td>\n",
       "      <td>4471040.0</td>\n",
       "      <td>11.590546</td>\n",
       "      <td>Games</td>\n",
       "      <td>Games</td>\n",
       "    </tr>\n",
       "    <tr>\n",
       "      <th>...</th>\n",
       "      <td>...</td>\n",
       "      <td>...</td>\n",
       "      <td>...</td>\n",
       "      <td>...</td>\n",
       "      <td>...</td>\n",
       "      <td>...</td>\n",
       "      <td>...</td>\n",
       "      <td>...</td>\n",
       "      <td>...</td>\n",
       "      <td>...</td>\n",
       "      <td>...</td>\n",
       "      <td>...</td>\n",
       "      <td>...</td>\n",
       "      <td>...</td>\n",
       "    </tr>\n",
       "    <tr>\n",
       "      <th>495</th>\n",
       "      <td>1413887036</td>\n",
       "      <td>496</td>\n",
       "      <td>iMPC Pro 2 for iPhone</td>\n",
       "      <td>1.413887e+09</td>\n",
       "      <td>12.99</td>\n",
       "      <td>USD</td>\n",
       "      <td>Music</td>\n",
       "      <td>4.65655</td>\n",
       "      <td>1779.0</td>\n",
       "      <td>Akai Professional</td>\n",
       "      <td>35580.0</td>\n",
       "      <td>0.151146</td>\n",
       "      <td>Entertainment</td>\n",
       "      <td>Entertainment</td>\n",
       "    </tr>\n",
       "    <tr>\n",
       "      <th>496</th>\n",
       "      <td>521577043</td>\n",
       "      <td>497</td>\n",
       "      <td>VinoCell - wine cellar manager</td>\n",
       "      <td>5.215770e+08</td>\n",
       "      <td>9.99</td>\n",
       "      <td>USD</td>\n",
       "      <td>Food &amp; Drink</td>\n",
       "      <td>4.64821</td>\n",
       "      <td>1788.0</td>\n",
       "      <td>VinoDev</td>\n",
       "      <td>35760.0</td>\n",
       "      <td>0.150859</td>\n",
       "      <td>Lifestyle</td>\n",
       "      <td>Outside Good</td>\n",
       "    </tr>\n",
       "    <tr>\n",
       "      <th>497</th>\n",
       "      <td>510119487</td>\n",
       "      <td>498</td>\n",
       "      <td>AnatomyMapp</td>\n",
       "      <td>5.101195e+08</td>\n",
       "      <td>19.99</td>\n",
       "      <td>USD</td>\n",
       "      <td>Medical</td>\n",
       "      <td>4.80889</td>\n",
       "      <td>1957.0</td>\n",
       "      <td>Books of Discovery</td>\n",
       "      <td>39140.0</td>\n",
       "      <td>0.150573</td>\n",
       "      <td>Health</td>\n",
       "      <td>Health</td>\n",
       "    </tr>\n",
       "    <tr>\n",
       "      <th>498</th>\n",
       "      <td>924491991</td>\n",
       "      <td>499</td>\n",
       "      <td>Cs Music Pro</td>\n",
       "      <td>9.244920e+08</td>\n",
       "      <td>2.99</td>\n",
       "      <td>USD</td>\n",
       "      <td>Music</td>\n",
       "      <td>4.30246</td>\n",
       "      <td>1782.0</td>\n",
       "      <td>Mike Clay</td>\n",
       "      <td>35640.0</td>\n",
       "      <td>0.150288</td>\n",
       "      <td>Entertainment</td>\n",
       "      <td>Entertainment</td>\n",
       "    </tr>\n",
       "    <tr>\n",
       "      <th>499</th>\n",
       "      <td>373493387</td>\n",
       "      <td>500</td>\n",
       "      <td>AnkiMobile Flashcards</td>\n",
       "      <td>3.734934e+08</td>\n",
       "      <td>24.99</td>\n",
       "      <td>USD</td>\n",
       "      <td>Education</td>\n",
       "      <td>4.11601</td>\n",
       "      <td>2043.0</td>\n",
       "      <td>Ankitects Pty Ltd</td>\n",
       "      <td>40860.0</td>\n",
       "      <td>0.150004</td>\n",
       "      <td>Education</td>\n",
       "      <td>Education</td>\n",
       "    </tr>\n",
       "  </tbody>\n",
       "</table>\n",
       "<p>500 rows × 14 columns</p>\n",
       "</div>"
      ],
      "text/plain": [
       "         app_id  rank                            name            id  price  \\\n",
       "0     479516143     1    Minecraft: Play with Friends  4.795161e+08   6.99   \n",
       "1    1118115766     2                     Bloons TD 6  1.118116e+09   6.99   \n",
       "2     342548956     3     TurboScan™ Pro: PDF scanner  3.425490e+08   9.99   \n",
       "3     623592465     4                       Heads Up!  6.235925e+08   1.99   \n",
       "4     625334537     5                   Geometry Dash  6.253345e+08   2.99   \n",
       "..          ...   ...                             ...           ...    ...   \n",
       "495  1413887036   496           iMPC Pro 2 for iPhone  1.413887e+09  12.99   \n",
       "496   521577043   497  VinoCell - wine cellar manager  5.215770e+08   9.99   \n",
       "497   510119487   498                     AnatomyMapp  5.101195e+08  19.99   \n",
       "498   924491991   499                    Cs Music Pro  9.244920e+08   2.99   \n",
       "499   373493387   500           AnkiMobile Flashcards  3.734934e+08  24.99   \n",
       "\n",
       "    currency         genre  avg_score  reviews_count           developer  \\\n",
       "0        USD         Games    4.50126       774041.0              Mojang   \n",
       "1        USD         Games    4.85886       325421.0          Ninja Kiwi   \n",
       "2        USD      Business    4.92558       289733.0        Piksoft Inc.   \n",
       "3        USD         Games    4.79223       261188.0        Warner Bros.   \n",
       "4        USD         Games    4.52792       223552.0     RobTop Games AB   \n",
       "..       ...           ...        ...            ...                 ...   \n",
       "495      USD         Music    4.65655         1779.0   Akai Professional   \n",
       "496      USD  Food & Drink    4.64821         1788.0             VinoDev   \n",
       "497      USD       Medical    4.80889         1957.0  Books of Discovery   \n",
       "498      USD         Music    4.30246         1782.0           Mike Clay   \n",
       "499      USD     Education    4.11601         2043.0   Ankitects Pty Ltd   \n",
       "\n",
       "     estimated_downloads  downloads_garg_telang macro_category final_category  \n",
       "0             15480820.0              52.958000          Games          Games  \n",
       "1              6508420.0              27.527024          Games          Games  \n",
       "2              5794660.0              18.772802   Productivity   Productivity  \n",
       "3              5223760.0              14.308264          Games          Games  \n",
       "4              4471040.0              11.590546          Games          Games  \n",
       "..                   ...                    ...            ...            ...  \n",
       "495              35580.0               0.151146  Entertainment  Entertainment  \n",
       "496              35760.0               0.150859      Lifestyle   Outside Good  \n",
       "497              39140.0               0.150573         Health         Health  \n",
       "498              35640.0               0.150288  Entertainment  Entertainment  \n",
       "499              40860.0               0.150004      Education      Education  \n",
       "\n",
       "[500 rows x 14 columns]"
      ]
     },
     "execution_count": 9,
     "metadata": {},
     "output_type": "execute_result"
    }
   ],
   "source": [
    "#Define macro-categories mapping\n",
    "macro_map = {\n",
    "    \"Games\": \"Games\",\n",
    "    \"Entertainment\": \"Entertainment\",\n",
    "    \"Music\": \"Entertainment\",\n",
    "    \"Photo & Video\": \"Entertainment\",\n",
    "    \"Social Networking\": \"Social\",\n",
    "    \"Shopping\": \"E-commerce\",\n",
    "    \"Food & Drink\": \"Lifestyle\",\n",
    "    \"Health & Fitness\": \"Lifestyle\",\n",
    "    \"Lifestyle\": \"Lifestyle\",\n",
    "    \"Travel\": \"Travel\",\n",
    "    \"Navigation\": \"Travel\",\n",
    "    \"Business\": \"Productivity\",\n",
    "    \"Productivity\": \"Productivity\",\n",
    "    \"Utilities\": \"Productivity\",\n",
    "    \"Finance\": \"Finance\",\n",
    "    \"Medical\": \"Health\",\n",
    "    \"Reference\": \"Education\",\n",
    "    \"Education\": \"Education\",\n",
    "    \"Weather\": \"Weather\",\n",
    "    \"Sports\": \"Sports\",\n",
    "    \"News\": \"News\"\n",
    "}\n",
    "full_df[\"macro_category\"] = full_df[\"genre\"].map(macro_map)\n",
    "macro_counts = full_df.groupby(\"macro_category\").size().sort_values(ascending=False)\n",
    "\n",
    "outside_good = full_df.groupby(\"genre\").size()[lambda x: x < 10]\n",
    "\n",
    "full_df[\"final_category\"] = full_df.apply(\n",
    "    lambda row: \"Outside Good\" if row[\"genre\"] in outside_good.index else row[\"macro_category\"],\n",
    "    axis=1\n",
    ")\n",
    "\n",
    "final_counts = full_df[\"final_category\"].value_counts()\n",
    "print(final_counts)\n",
    "full_df"
   ]
  },
  {
   "cell_type": "code",
   "execution_count": 10,
   "id": "bbc1826e",
   "metadata": {
    "ExecuteTime": {
     "end_time": "2025-09-25T16:16:46.080726Z",
     "start_time": "2025-09-25T16:16:46.073184Z"
    }
   },
   "outputs": [],
   "source": [
    "full_df.to_csv(\"../output/data/apple_processed.csv\", index=False)"
   ]
  },
  {
   "cell_type": "markdown",
   "id": "1add0086",
   "metadata": {},
   "source": [
    "# Statistics and tables"
   ]
  },
  {
   "cell_type": "code",
   "execution_count": 11,
   "id": "839b4cc4",
   "metadata": {
    "ExecuteTime": {
     "end_time": "2025-09-25T16:37:52.652966Z",
     "start_time": "2025-09-25T16:37:52.631872Z"
    }
   },
   "outputs": [],
   "source": [
    "def smart_format(x):\n",
    "    if isinstance(x, (int, np.integer)):   # integers untouched\n",
    "        return f\"{x:d}\"\n",
    "    if abs(x) < 1000:                      # small floats normal\n",
    "        return f\"{x:.2f}\"\n",
    "    else:                                  # large numbers in scientific notation\n",
    "        return f\"{x:.2e}\"\n",
    "\n",
    "numeric_df = full_df.select_dtypes(include=[np.number]).drop(columns=['rank', 'id'], errors='ignore')\n",
    "\n",
    "#mean, median, std, min, max, count\n",
    "summary = pd.DataFrame({\n",
    "    \"mean\": numeric_df.mean(),\n",
    "    \"median\": numeric_df.median(),\n",
    "    \"std\": numeric_df.std(),\n",
    "    \"min\": numeric_df.min(),\n",
    "    \"max\": numeric_df.max(),\n",
    "    \"count\": numeric_df.count()\n",
    "})\n",
    "summary = summary[[\"mean\", \"median\", \"std\", \"min\", \"max\", \"count\"]]\n",
    "\n",
    "summary = summary.map(smart_format)\n",
    "summary.to_latex(\"../output/tables/numeric_summary.tex\", float_format=\"%.2f\")"
   ]
  },
  {
   "cell_type": "code",
   "execution_count": 14,
   "id": "ea5c690b",
   "metadata": {
    "ExecuteTime": {
     "end_time": "2025-09-25T16:48:47.592789Z",
     "start_time": "2025-09-25T16:48:47.425435Z"
    }
   },
   "outputs": [
    {
     "data": {
      "image/png": "[encoded data removed]",
      "text/plain": [
       "<Figure size 500x300 with 1 Axes>"
      ]
     },
     "metadata": {},
     "output_type": "display_data"
    }
   ],
   "source": [
    "#Scatter plot for price vs estimated downloads\n",
    "plt.figure(figsize=(5, 3))\n",
    "plt.grid(alpha = 0.5, ls = (5, (10, 3)))\n",
    "\n",
    "plt.scatter(data=full_df, x='price', y='estimated_downloads', alpha=0.6, s=8)\n",
    "\n",
    "plt.yscale('log')\n",
    "plt.xlabel('Price (USD)')\n",
    "plt.ylabel('Estimated Downloads (log)')\n",
    "\n",
    "plt.savefig('../output/plots/price_vs_downloads.png', dpi=300, bbox_inches='tight')\n",
    "plt.show()"
   ]
  }
 ],
 "metadata": {
  "kernelspec": {
   "display_name": "Python 3",
   "language": "python",
   "name": "python3"
  },
  "language_info": {
   "codemirror_mode": {
    "name": "ipython",
    "version": 3
   },
   "file_extension": ".py",
   "mimetype": "text/x-python",
   "name": "python",
   "nbconvert_exporter": "python",
   "pygments_lexer": "ipython3",
   "version": "3.10.4"
  }
 },
 "nbformat": 4,
 "nbformat_minor": 5
}
